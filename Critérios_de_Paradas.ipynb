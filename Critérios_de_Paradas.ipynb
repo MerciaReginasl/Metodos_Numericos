{
 "cells": [
  {
   "cell_type": "markdown",
   "metadata": {
    "collapsed": false
   },
   "source": [
    "**Critérios de parada**\n",
    "\n",
    "1. _Erro máximo permitido: tolerância_\n",
    "\n",
    "_Tolerancia &gt; erro ? Sim: paro \\- Não: \\+1 iteração_\n",
    "\n",
    "**Método da Bisseção**\n"
   ]
  },
  {
   "cell_type": "code",
   "execution_count": 1,
   "metadata": {
    "collapsed": false
   },
   "outputs": [
   ],
   "source": [
    "import numpy as np\n",
    "\n",
    "def bissecao(a,b,f,tol):\n",
    "    i = 0\n",
    "    if((np.sign(f(a)) * np.sign(f(b))) != -1):\n",
    "        return \"Não existe raiz\"\n",
    "    elif((np.sign(f(a)) * np.sign(f(b))) == -1):\n",
    "        while True:\n",
    "            m = (a + b)/2\n",
    "            if(np.abs(f(m)) < tol):\n",
    "                break\n",
    "            else:\n",
    "                if((np.sign(f(a)) * np.sign(f(m))) == -1):\n",
    "                    b = m\n",
    "                else:\n",
    "                    a = m\n",
    "    return m\n",
    "    i = i+1"
   ]
  },
  {
   "cell_type": "code",
   "execution_count": 2,
   "metadata": {
    "collapsed": false
   },
   "outputs": [
    {
     "data": {
      "text/plain": [
       "1.4140625"
      ]
     },
     "execution_count": 2,
     "metadata": {
     },
     "output_type": "execute_result"
    }
   ],
   "source": [
    "f = lambda x: x**2 - 2\n",
    "bissecao(0,2,f,0.01)"
   ]
  },
  {
   "cell_type": "markdown",
   "metadata": {
    "collapsed": false
   },
   "source": [
    "https://pythonnumericalmethods.berkeley.edu/notebooks/Index.html\n",
    "\n"
   ]
  },
  {
   "cell_type": "code",
   "execution_count": 0,
   "metadata": {
    "collapsed": false
   },
   "outputs": [
   ],
   "source": [
   ]
  }
 ],
 "metadata": {
  "kernelspec": {
   "display_name": "Python 3 (system-wide)",
   "language": "python",
   "metadata": {
    "cocalc": {
     "description": "Python 3 programming language",
     "priority": 100,
     "url": "https://www.python.org/"
    }
   },
   "name": "python3",
   "resource_dir": "/ext/jupyter/kernels/python3"
  },
  "language_info": {
   "codemirror_mode": {
    "name": "ipython",
    "version": 3
   },
   "file_extension": ".py",
   "mimetype": "text/x-python",
   "name": "python",
   "nbconvert_exporter": "python",
   "pygments_lexer": "ipython3",
   "version": "3.8.10"
  }
 },
 "nbformat": 4,
 "nbformat_minor": 4
}