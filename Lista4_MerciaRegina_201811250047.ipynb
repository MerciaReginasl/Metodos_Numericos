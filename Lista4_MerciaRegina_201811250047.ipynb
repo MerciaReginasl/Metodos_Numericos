{
 "cells": [
  {
   "cell_type": "code",
   "execution_count": 34,
   "id": "12f2b658",
   "metadata": {},
   "outputs": [],
   "source": [
    "#Mercia Regina da Silva\n",
    "#Matricula: 201811250047\n",
    "#4ª Lista\n",
    "\n",
    "import numpy as np\n",
    "import matplotlib.pyplot as plt"
   ]
  },
  {
   "cell_type": "code",
   "execution_count": 15,
   "id": "d32f180d",
   "metadata": {},
   "outputs": [],
   "source": [
    "#QUESTÃO 1:\n",
    "    \n",
    "import numpy as np\n",
    "\n",
    "def bissecao(a,b,f,tol):\n",
    "    i = 0\n",
    "    if((np.sign(f(a)) * np.sign(f(b))) != -1):\n",
    "        return \"Não existe raiz\"\n",
    "    elif((np.sign(f(a)) * np.sign(f(b))) == -1):\n",
    "        while True:\n",
    "            m = (a + b)/2\n",
    "            if(np.abs(f(m)) < tol):\n",
    "                break\n",
    "            else:\n",
    "                if((np.sign(f(a)) * np.sign(f(m))) == -1):\n",
    "                    b = m\n",
    "                else:\n",
    "                    a = m\n",
    "    return m\n",
    "    i = i+1"
   ]
  },
  {
   "cell_type": "code",
   "execution_count": 16,
   "id": "e1e03145",
   "metadata": {},
   "outputs": [
    {
     "data": {
      "text/plain": [
       "5.2421875"
      ]
     },
     "execution_count": 16,
     "metadata": {},
     "output_type": "execute_result"
    }
   ],
   "source": [
    "def f(x):\n",
    "    return np.exp(-x)+0.5\n",
    "def f1(x):\n",
    "    return np.cos(x)\n",
    "def g(x):\n",
    "    return f(x)-f1(x)\n",
    "bissecao(-1,7,g,0.0001)"
   ]
  },
  {
   "cell_type": "code",
   "execution_count": 17,
   "id": "e4bef404",
   "metadata": {},
   "outputs": [],
   "source": [
    "#QUESTÃO 2:\n",
    "\n",
    "def f(x):\n",
    "    return -0.5*x**2+2.5*x+4.5"
   ]
  },
  {
   "cell_type": "code",
   "execution_count": 18,
   "id": "aeed1499",
   "metadata": {},
   "outputs": [
    {
     "data": {
      "image/png": "[encoded data removed]",
      "text/plain": [
       "<Figure size 432x288 with 1 Axes>"
      ]
     },
     "metadata": {
      "needs_background": "light"
     },
     "output_type": "display_data"
    }
   ],
   "source": [
    "#Letra A:\n",
    "\n",
    "x = np.linspace(-5, 10, 100)\n",
    "k = np.arange(-5, 0)\n",
    "plt.plot([-5,10],[0,0],'black')\n",
    "plt.plot(x,f(x),[bissecao(-2,0,f,0.0001),bissecao(6,7,f,0.0001)],[0,0],'ro')\n",
    "plt.grid()"
   ]
  },
  {
   "cell_type": "code",
   "execution_count": 19,
   "id": "d8f22492",
   "metadata": {},
   "outputs": [
    {
     "data": {
      "text/plain": [
       "array([ 6.40512484, -1.40512484])"
      ]
     },
     "execution_count": 19,
     "metadata": {},
     "output_type": "execute_result"
    }
   ],
   "source": [
    "#Letra B:\n",
    "\n",
    "coeficientes = [-0.5,2.5,4.5]\n",
    "np.roots(coeficientes)"
   ]
  },
  {
   "cell_type": "code",
   "execution_count": 20,
   "id": "ba95d490",
   "metadata": {},
   "outputs": [],
   "source": [
    "#Letra C:\n",
    "\n",
    "def bissecaoInteracao(a,b,f,inte = 200):\n",
    "    erro, m_ant = 1, a\n",
    "    cont = 0\n",
    "    if((np.sign(f(a)) * np.sign(f(b))) != -1):\n",
    "        return \"Não existe raiz\"\n",
    "    elif((np.sign(f(a)) * np.sign(f(b))) == -1):\n",
    "        while(cont < inte):\n",
    "            m = (a + b)/2\n",
    "            if(np.abs(f(m)) < 0.0001):\n",
    "                break\n",
    "                print('A raíz é ', m)   \n",
    "                \n",
    "                #erros relativos obtidos entre cada iteração ->\n",
    "                \n",
    "                print(\"Erro relativo = \",np.abs((m - m_ant)/m),\"Valor da interação = \", m) \n",
    "                return m,np.abs((m - m_ant)/m)\n",
    "            else:\n",
    "                if((np.sign(f(a)) * np.sign(f(m))) == -1):\n",
    "                    b = m\n",
    "                else:\n",
    "                    a = m\n",
    "            cont = cont+1\n",
    "            erro = np.abs((m - m_ant)/m)\n",
    "            m_ant = m\n",
    "            print(cont,\"º Erro relativo = \", erro,\"\\nValor da interação = \", m)  \n",
    "            \n",
    "    return m"
   ]
  },
  {
   "cell_type": "code",
   "execution_count": 21,
   "id": "ebdd35aa",
   "metadata": {},
   "outputs": [
    {
     "name": "stdout",
     "output_type": "stream",
     "text": [
      "1 º Erro relativo =  0.3333333333333333 \n",
      "Valor da interação =  7.5\n",
      "2 º Erro relativo =  0.2 \n",
      "Valor da interação =  6.25\n",
      "3 º Erro relativo =  0.09090909090909091 \n",
      "Valor da interação =  6.875\n"
     ]
    },
    {
     "data": {
      "text/plain": [
       "6.875"
      ]
     },
     "execution_count": 21,
     "metadata": {},
     "output_type": "execute_result"
    }
   ],
   "source": [
    "bissecaoInteracao(5,10,f,3)"
   ]
  },
  {
   "cell_type": "code",
   "execution_count": 22,
   "id": "e55b12a8",
   "metadata": {},
   "outputs": [
    {
     "data": {
      "text/plain": [
       "0.14598335466666665"
      ]
     },
     "execution_count": 22,
     "metadata": {},
     "output_type": "execute_result"
    }
   ],
   "source": [
    "erro_1 = np.abs( 7.5-6.40512484)/ 7.5\n",
    "erro_1"
   ]
  },
  {
   "cell_type": "code",
   "execution_count": 23,
   "id": "06bcf0c6",
   "metadata": {},
   "outputs": [
    {
     "data": {
      "text/plain": [
       "0.024819974400000007"
      ]
     },
     "execution_count": 23,
     "metadata": {},
     "output_type": "execute_result"
    }
   ],
   "source": [
    "erro_2 = np.abs(6.25-6.40512484)/ 6.25\n",
    "erro_2"
   ]
  },
  {
   "cell_type": "code",
   "execution_count": 24,
   "id": "0a34992b",
   "metadata": {},
   "outputs": [
    {
     "data": {
      "text/plain": [
       "0.06834547781818182"
      ]
     },
     "execution_count": 24,
     "metadata": {},
     "output_type": "execute_result"
    }
   ],
   "source": [
    "erro_3 = np.abs((6.875-6.40512484)/6.875)\n",
    "erro_3"
   ]
  },
  {
   "cell_type": "code",
   "execution_count": 25,
   "id": "f1b61755",
   "metadata": {},
   "outputs": [],
   "source": [
    "#Questão 3\n",
    "\n",
    "def f(x):\n",
    "    return x**3\n",
    "def g(x):\n",
    "    return np.sin(x)"
   ]
  },
  {
   "cell_type": "code",
   "execution_count": 26,
   "id": "aa386d4c",
   "metadata": {},
   "outputs": [
    {
     "data": {
      "image/png": "[encoded data removed]",
      "text/plain": [
       "<Figure size 432x288 with 1 Axes>"
      ]
     },
     "metadata": {
      "needs_background": "light"
     },
     "output_type": "display_data"
    }
   ],
   "source": [
    "x = np.linspace(-5, 3, 1000)\n",
    "\n",
    "\n",
    "plt.plot(x,f(x))\n",
    "plt.plot(x,g(x))\n",
    "\n",
    "plt.plot(x,f(x),[-0.93,0,0.93],[-0.80,0,0.80],'ro')\n",
    "\n",
    "plt.ylim(-1, 1)\n",
    "plt.xlim(-1, 1)\n",
    "\n",
    "plt.grid()"
   ]
  },
  {
   "cell_type": "code",
   "execution_count": 27,
   "id": "2fdfbb53",
   "metadata": {},
   "outputs": [
    {
     "data": {
      "text/plain": [
       "0.9375"
      ]
     },
     "execution_count": 27,
     "metadata": {},
     "output_type": "execute_result"
    }
   ],
   "source": [
    "def h(x):\n",
    "    return g(x)-f(x)\n",
    "\n",
    "\n",
    "bissecao(0.5,1,h,2e-2)"
   ]
  },
  {
   "cell_type": "code",
   "execution_count": 28,
   "id": "5ad735d4",
   "metadata": {},
   "outputs": [],
   "source": [
    "#Questão 4\n",
    "\n",
    "def f(x):\n",
    "    return (-2*(x**6))-(1.5*(x**4))+(10*x)+20\n",
    "def fi(x):\n",
    "    return -12*x**5-6*x**3+10"
   ]
  },
  {
   "cell_type": "code",
   "execution_count": 29,
   "id": "b58d86e9",
   "metadata": {},
   "outputs": [
    {
     "data": {
      "text/plain": [
       "0.87109375"
      ]
     },
     "execution_count": 29,
     "metadata": {},
     "output_type": "execute_result"
    }
   ],
   "source": [
    "bissecao(0,1,fi, 5e-2)"
   ]
  },
  {
   "cell_type": "code",
   "execution_count": 40,
   "id": "1d0b82ca",
   "metadata": {},
   "outputs": [],
   "source": [
    "#Questão 5\n",
    "\n",
    "def interpolacao(f, a, b, tol=1e-10):\n",
    "    erro, x_ant = 1, a\n",
    "    interacoes = 0\n",
    "    while(erro > tol):\n",
    "        inf = np.sign(f(a))\n",
    "        sup = np.sign(f(b))\n",
    "        if inf*sup != -1: \n",
    "            print(\"Não há raiz nesse intervalo\")\n",
    "            return inf*sup\n",
    "        else:\n",
    "            x = a-((f(a)*(b-a))/(f(b)-f(a)))\n",
    "            if f(x) == 0:\n",
    "                \n",
    "                print('A raíz é ', x)   \n",
    "                return [x,interacoes]\n",
    "            \n",
    "            elif inf*np.sign(f(x)) == -1: b = x\n",
    "            else: a = x\n",
    "                \n",
    "        erro = np.abs((x - x_ant)/x)\n",
    "        x_ant = x\n",
    "        interacoes+=1\n",
    "        \n",
    "    return [x,interacoes]\n",
    "\n",
    "def bissecao3(f, a, b, tol=1e-10):\n",
    "    erro, x_ant = 1, a\n",
    "    interacoes=0\n",
    "    while(erro > tol):\n",
    "        inf = np.sign(f(a))\n",
    "        sup = np.sign(f(b))\n",
    "        if inf*sup != -1: \n",
    "            print(\"Não há raiz nesse intervalo\")\n",
    "            return inf*sup\n",
    "        else:\n",
    "            x = a+0.5*(b-a)\n",
    "            if f(x) == 0:\n",
    "                \n",
    "                print('A raíz é ', x)   \n",
    "                return [x,interacoes]\n",
    "            \n",
    "            elif inf*np.sign(f(x)) == -1: b = x\n",
    "            else: a = x\n",
    "                \n",
    "        erro = np.abs((x - x_ant)/x)\n",
    "        x_ant = x\n",
    "        interacoes+=1\n",
    "    \n",
    "    return [x,interacoes]"
   ]
  },
  {
   "cell_type": "code",
   "execution_count": 41,
   "id": "221964d6",
   "metadata": {},
   "outputs": [],
   "source": [
    "def fi(x):\n",
    "    return -12*x**5-6*x**3+10\n",
    "\n",
    "interacoesFiBiss = bissecao3(fi,0,1)[1]\n",
    "interacoesFiInter = interpolacao(fi,0,1)[1]"
   ]
  },
  {
   "cell_type": "code",
   "execution_count": 42,
   "id": "bc3fcb5d",
   "metadata": {},
   "outputs": [
    {
     "data": {
      "image/png": "[encoded data removed]",
      "text/plain": [
       "<Figure size 432x288 with 1 Axes>"
      ]
     },
     "metadata": {
      "needs_background": "light"
     },
     "output_type": "display_data"
    }
   ],
   "source": [
    "index = np.arange(2)\n",
    "plt.title(\"Comparação de metodos por quantidade de interação\")\n",
    "plt.bar([1,2],[interacoesFiBiss,interacoesFiInter],color = ['#848fff','#e56ca6'])\n",
    "\n",
    "plt.text(2,18,str(interacoesFiInter))\n",
    "plt.text(1,35,str(interacoesFiBiss))\n",
    "plt.ylim(0,40)\n",
    "\n",
    "plt.xticks(index+1, (\"Bisseção\", \"Interpolação\"))\n",
    "plt.ylabel(\"Quantidade de interações\")\n",
    "plt.show()"
   ]
  },
  {
   "cell_type": "code",
   "execution_count": 43,
   "id": "7968ee38",
   "metadata": {},
   "outputs": [],
   "source": [
    "#Teste com f(x)\n",
    "\n",
    "def f(x):\n",
    "    return -0.5*x**2+2.5*x+4.5\n",
    "\n",
    "interacoesFBiss = bissecao3(f,-2,0)[1]\n",
    "interacoesFInter = interpolacao(f,-2,0)[1]"
   ]
  },
  {
   "cell_type": "code",
   "execution_count": 44,
   "id": "e6d23f98",
   "metadata": {},
   "outputs": [
    {
     "data": {
      "image/png": "[encoded data removed]",
      "text/plain": [
       "<Figure size 432x288 with 1 Axes>"
      ]
     },
     "metadata": {
      "needs_background": "light"
     },
     "output_type": "display_data"
    }
   ],
   "source": [
    "index = np.arange(2)\n",
    "plt.title(\"Comparação de metodos por quantidade de interação\")\n",
    "plt.bar([1,2],[interacoesFBiss,interacoesFInter],color = ['#52ffd4','#c980d1'])\n",
    "\n",
    "\n",
    "plt.text(2,11,str(interacoesFInter))\n",
    "plt.text(1,35,str(interacoesFBiss))\n",
    "plt.ylim(0,40)\n",
    "\n",
    "\n",
    "plt.xticks(index+1, (\"Bisseção\", \"Interpolação\"))\n",
    "plt.ylabel(\"Quantidade de interações\")\n",
    "plt.show()"
   ]
  },
  {
   "cell_type": "code",
   "execution_count": null,
   "id": "097e37c9",
   "metadata": {},
   "outputs": [],
   "source": []
  }
 ],
 "metadata": {
  "kernelspec": {
   "display_name": "Python 3 (ipykernel)",
   "language": "python",
   "name": "python3"
  },
  "language_info": {
   "codemirror_mode": {
    "name": "ipython",
    "version": 3
   },
   "file_extension": ".py",
   "mimetype": "text/x-python",
   "name": "python",
   "nbconvert_exporter": "python",
   "pygments_lexer": "ipython3",
   "version": "3.9.7"
  }
 },
 "nbformat": 4,
 "nbformat_minor": 5
}
